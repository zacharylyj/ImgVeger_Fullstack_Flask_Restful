{
 "cells": [
  {
   "cell_type": "code",
   "execution_count": 15,
   "metadata": {},
   "outputs": [],
   "source": [
    "import tensorflow as tf\n",
    "from tensorflow.keras import layers, models\n",
    "from tensorflow.keras.preprocessing.image import ImageDataGenerator\n",
    "from tensorflow.keras.callbacks import ModelCheckpoint\n",
    "import os"
   ]
  },
  {
   "cell_type": "markdown",
   "metadata": {},
   "source": [
    "CNN 31x31"
   ]
  },
  {
   "cell_type": "code",
   "execution_count": 16,
   "metadata": {},
   "outputs": [],
   "source": [
    "batch_size = 128\n",
    "target_size = (31, 31)\n",
    "color_mode = \"grayscale\"\n",
    "num_classes = 15\n",
    "learning_rate = 0.00005\n",
    "dropout_rate = 0.6\n",
    "epochs = 400"
   ]
  },
  {
   "cell_type": "code",
   "execution_count": 17,
   "metadata": {},
   "outputs": [
    {
     "name": "stdout",
     "output_type": "stream",
     "text": [
      "Model: \"sequential_2\"\n",
      "_________________________________________________________________\n",
      " Layer (type)                Output Shape              Param #   \n",
      "=================================================================\n",
      " conv2d_8 (Conv2D)           (None, 31, 31, 32)        320       \n",
      "                                                                 \n",
      " max_pooling2d_6 (MaxPoolin  (None, 15, 15, 32)        0         \n",
      " g2D)                                                            \n",
      "                                                                 \n",
      " conv2d_9 (Conv2D)           (None, 15, 15, 64)        18496     \n",
      "                                                                 \n",
      " conv2d_10 (Conv2D)          (None, 15, 15, 128)       73856     \n",
      "                                                                 \n",
      " conv2d_11 (Conv2D)          (None, 15, 15, 128)       147584    \n",
      "                                                                 \n",
      " max_pooling2d_7 (MaxPoolin  (None, 7, 7, 128)         0         \n",
      " g2D)                                                            \n",
      "                                                                 \n",
      " flatten_1 (Flatten)         (None, 6272)              0         \n",
      "                                                                 \n",
      " dropout_5 (Dropout)         (None, 6272)              0         \n",
      "                                                                 \n",
      " dense_5 (Dense)             (None, 512)               3211776   \n",
      "                                                                 \n",
      " dropout_6 (Dropout)         (None, 512)               0         \n",
      "                                                                 \n",
      " dense_6 (Dense)             (None, 128)               65664     \n",
      "                                                                 \n",
      " dropout_7 (Dropout)         (None, 128)               0         \n",
      "                                                                 \n",
      " dense_7 (Dense)             (None, 15)                1935      \n",
      "                                                                 \n",
      "=================================================================\n",
      "Total params: 3519631 (13.43 MB)\n",
      "Trainable params: 3519631 (13.43 MB)\n",
      "Non-trainable params: 0 (0.00 Byte)\n",
      "_________________________________________________________________\n",
      "None\n"
     ]
    }
   ],
   "source": [
    "cnn31aug = models.Sequential()\n",
    "\n",
    "cnn31aug.add(\n",
    "    layers.Conv2D(\n",
    "        32,\n",
    "        (3, 3),\n",
    "        activation=\"relu\",\n",
    "        input_shape=(target_size[0], target_size[1], 1),\n",
    "        padding=\"same\",\n",
    "    )\n",
    ")\n",
    "cnn31aug.add(layers.MaxPooling2D((2, 2)))\n",
    "cnn31aug.add(layers.Conv2D(64, (3, 3), activation=\"relu\", padding=\"same\"))\n",
    "cnn31aug.add(layers.Conv2D(128, (3, 3), activation=\"relu\", padding=\"same\"))\n",
    "cnn31aug.add(layers.Conv2D(128, (3, 3), activation=\"relu\", padding=\"same\"))\n",
    "cnn31aug.add(layers.MaxPooling2D((2, 2)))\n",
    "cnn31aug.add(layers.Flatten())\n",
    "cnn31aug.add(layers.Dropout(dropout_rate))\n",
    "cnn31aug.add(layers.Dense(512, activation=\"relu\"))\n",
    "cnn31aug.add(layers.Dropout(dropout_rate))\n",
    "cnn31aug.add(layers.Dense(128, activation=\"relu\"))\n",
    "cnn31aug.add(layers.Dropout(dropout_rate))\n",
    "cnn31aug.add(layers.Dense(num_classes, activation=\"softmax\"))\n",
    "\n",
    "optimizer = tf.keras.optimizers.Adam(learning_rate=learning_rate)\n",
    "cnn31aug.compile(\n",
    "    optimizer=optimizer, loss=\"categorical_crossentropy\", metrics=[\"accuracy\"]\n",
    ")\n",
    "print(cnn31aug.summary())"
   ]
  },
  {
   "cell_type": "code",
   "execution_count": 18,
   "metadata": {},
   "outputs": [],
   "source": [
    "cnn31aug.load_weights('weights/31x31.hdf5')\n"
   ]
  },
  {
   "cell_type": "code",
   "execution_count": 19,
   "metadata": {},
   "outputs": [
    {
     "name": "stdout",
     "output_type": "stream",
     "text": [
      "INFO:tensorflow:Assets written to: CNN31x31/assets\n"
     ]
    },
    {
     "name": "stderr",
     "output_type": "stream",
     "text": [
      "INFO:tensorflow:Assets written to: CNN31x31/assets\n"
     ]
    }
   ],
   "source": [
    "cnn31aug.save('CNN31x31', save_format='tf')\n"
   ]
  },
  {
   "cell_type": "markdown",
   "metadata": {},
   "source": [
    "CNN 128x128"
   ]
  },
  {
   "cell_type": "code",
   "execution_count": 20,
   "metadata": {},
   "outputs": [],
   "source": [
    "batch_size = 64\n",
    "target_size = (128, 128)\n",
    "color_mode = \"grayscale\"\n",
    "num_classes = 15\n",
    "learning_rate = 0.00025\n",
    "dropout_rate = 0.6\n",
    "epochs = 400"
   ]
  },
  {
   "cell_type": "code",
   "execution_count": 21,
   "metadata": {},
   "outputs": [
    {
     "name": "stdout",
     "output_type": "stream",
     "text": [
      "Model: \"sequential_3\"\n",
      "_________________________________________________________________\n",
      " Layer (type)                Output Shape              Param #   \n",
      "=================================================================\n",
      " conv2d_12 (Conv2D)          (None, 128, 128, 64)      1664      \n",
      "                                                                 \n",
      " max_pooling2d_8 (MaxPoolin  (None, 64, 64, 64)        0         \n",
      " g2D)                                                            \n",
      "                                                                 \n",
      " conv2d_13 (Conv2D)          (None, 64, 64, 128)       73856     \n",
      "                                                                 \n",
      " max_pooling2d_9 (MaxPoolin  (None, 32, 32, 128)       0         \n",
      " g2D)                                                            \n",
      "                                                                 \n",
      " conv2d_14 (Conv2D)          (None, 32, 32, 256)       295168    \n",
      "                                                                 \n",
      " max_pooling2d_10 (MaxPooli  (None, 16, 16, 256)       0         \n",
      " ng2D)                                                           \n",
      "                                                                 \n",
      " conv2d_15 (Conv2D)          (None, 16, 16, 512)       1180160   \n",
      "                                                                 \n"
     ]
    },
    {
     "name": "stdout",
     "output_type": "stream",
     "text": [
      " max_pooling2d_11 (MaxPooli  (None, 8, 8, 512)         0         \n",
      " ng2D)                                                           \n",
      "                                                                 \n",
      " global_average_pooling2d_1  (None, 512)               0         \n",
      "  (GlobalAveragePooling2D)                                       \n",
      "                                                                 \n",
      " dropout_8 (Dropout)         (None, 512)               0         \n",
      "                                                                 \n",
      " dense_8 (Dense)             (None, 512)               262656    \n",
      "                                                                 \n",
      " dropout_9 (Dropout)         (None, 512)               0         \n",
      "                                                                 \n",
      " dense_9 (Dense)             (None, 15)                7695      \n",
      "                                                                 \n",
      "=================================================================\n",
      "Total params: 1821199 (6.95 MB)\n",
      "Trainable params: 1821199 (6.95 MB)\n",
      "Non-trainable params: 0 (0.00 Byte)\n",
      "_________________________________________________________________\n",
      "None\n"
     ]
    }
   ],
   "source": [
    "cnn128aug = models.Sequential()\n",
    "\n",
    "\n",
    "cnn128aug.add(\n",
    "    layers.Conv2D(\n",
    "        64,\n",
    "        (5, 5),\n",
    "        activation=\"elu\",\n",
    "        input_shape=(target_size[0], target_size[1], 1),\n",
    "        padding=\"same\",\n",
    "    )\n",
    ")\n",
    "cnn128aug.add(layers.MaxPooling2D((2, 2)))\n",
    "cnn128aug.add(layers.Conv2D(128, (3, 3), activation=\"elu\", padding=\"same\"))\n",
    "cnn128aug.add(layers.MaxPooling2D((2, 2)))\n",
    "cnn128aug.add(layers.Conv2D(256, (3, 3), activation=\"elu\", padding=\"same\"))\n",
    "cnn128aug.add(layers.MaxPooling2D((2, 2)))\n",
    "cnn128aug.add(layers.Conv2D(512, (3, 3), activation=\"elu\", padding=\"same\"))\n",
    "cnn128aug.add(layers.MaxPooling2D((2, 2)))\n",
    "cnn128aug.add(layers.GlobalAveragePooling2D())\n",
    "cnn128aug.add(layers.Dropout(dropout_rate))\n",
    "cnn128aug.add(layers.Dense(512, activation=\"relu\"))\n",
    "cnn128aug.add(layers.Dropout(dropout_rate))\n",
    "cnn128aug.add(layers.Dense(num_classes, activation=\"softmax\"))\n",
    "\n",
    "optimizer = tf.keras.optimizers.Adam(learning_rate=learning_rate)\n",
    "cnn128aug.compile(\n",
    "    optimizer=optimizer, loss=\"categorical_crossentropy\", metrics=[\"accuracy\"]\n",
    ")\n",
    "print(cnn128aug.summary())"
   ]
  },
  {
   "cell_type": "code",
   "execution_count": 22,
   "metadata": {},
   "outputs": [],
   "source": [
    "cnn128aug.load_weights('weights/128x128.hdf5')\n"
   ]
  },
  {
   "cell_type": "code",
   "execution_count": 23,
   "metadata": {},
   "outputs": [
    {
     "name": "stdout",
     "output_type": "stream",
     "text": [
      "INFO:tensorflow:Assets written to: CNN128x128/assets\n"
     ]
    },
    {
     "name": "stderr",
     "output_type": "stream",
     "text": [
      "INFO:tensorflow:Assets written to: CNN128x128/assets\n"
     ]
    }
   ],
   "source": [
    "cnn128aug.save('CNN128x128', save_format='tf')\n"
   ]
  },
  {
   "cell_type": "markdown",
   "metadata": {},
   "source": [
    "# models.config file"
   ]
  },
  {
   "cell_type": "markdown",
   "metadata": {},
   "source": [
    "```models.config``` file for configurations to run 2 models under tensorflow serving\n",
    "\n",
    "```name``` will be used to identify the model when docker is deployed\n",
    "\n",
    "```\n",
    "model_config_list: {\n",
    "  config: {\n",
    "    name:  \"CNN31x31\",\n",
    "    base_path:  \"/model/CNN31x31\",\n",
    "    model_platform: \"tensorflow\",\n",
    "    model_version_policy: {\n",
    "        all: {}\n",
    "    }\n",
    "  },\n",
    "  config: {\n",
    "    name:  \"CNN128x128\",\n",
    "    base_path:  \"/model/CNN128x128\",\n",
    "    model_platform: \"tensorflow\",\n",
    "    model_version_policy: {\n",
    "        all: {}\n",
    "    }\n",
    "  }\n",
    "}\n",
    "```"
   ]
  },
  {
   "cell_type": "markdown",
   "metadata": {},
   "source": [
    "# Dockerfile"
   ]
  },
  {
   "cell_type": "markdown",
   "metadata": {},
   "source": [
    "```Dockerfile``` to run the models using tensorflow serving\n",
    "\n",
    "```MODEL_CONF``` needs to be pointed towards the models.config dir\n",
    "\n",
    "```\n",
    "FROM tensorflow/serving\n",
    "COPY / /\n",
    "ENV MODEL_CONF=/model/models.config MODEL_BASE_PATH=/\n",
    "EXPOSE 8500\n",
    "EXPOSE 8501\n",
    "RUN echo '#!/bin/bash \\n\\n\\\n",
    "    tensorflow_model_server \\\n",
    "    --rest_api_port=$PORT \\\n",
    "    --model_config_file=${MODEL_CONF} \\\n",
    "    \"$@\"' > /usr/bin/tf_serving_entrypoint.sh \\\n",
    "    && chmod +x /usr/bin/tf_serving_entrypoint.sh\n",
    "```"
   ]
  },
  {
   "cell_type": "markdown",
   "metadata": {},
   "source": [
    "# Local Deployment"
   ]
  },
  {
   "cell_type": "markdown",
   "metadata": {},
   "source": [
    "1. Create models.config for serving both the models\n",
    "2. Dockerfile to link with Model config\n",
    "3. Copy Over the Model file and place it on local machine in my case ```C:/Box/DOAA/localhost_file/model```\n",
    "4. CMD commands\n",
    "    - ubuntu\n",
    "    - explorer.exe .\n",
    "5. Navigate to docker container\n",
    "    - wsl.localhost\\docker-desktop-data\\data\\docker\\overlay2\\4c401b43901937161be205602643a7f3e1d1079492c2881e8b6f5d8b5e748f50\\diff\\root\n",
    "        - To find file name goto Docker Desktop and under the container's details then Inspect search for ```GraphDriver``` and look at the filename after overlay2 example : ```4c401b43901937161be205602643a7f3e1d1079492c2881e8b6f5d8b5e748f50```\n",
    "6. Run powershell in project directory\n",
    "7. Run ```Start-Process -NoNewWindow -FilePath \"docker\" -ArgumentList \"run\", \"--name\", \"localhost_tf_serving_CNN\", \"-p\", \"8501:8501\", \"-v\", \"C:/Box/DOAA/localhost_file/model:/model\", \"-e\", \"MODEL_CONFIG_FILE=/model/models.config\", \"-t\", \"tensorflow/serving\", \"--model_config_file=/model/models.config\"``` to create Docker container to serve TensorFlow model binded to the Model file in local machine\n",
    "    - \"C:/Box/DOAA/localhost_file/model:/model\" before the ```:``` is the local machine while after is the virtual machine's file path\n",
    "8. Ensure Docker Container is running in Docker Desktop on port 8501\n",
    "9. Check ```http://localhost:8501/v1/models/CNN31x31``` and ```http://localhost:8501/v1/models/CNN128x128``` for \n",
    "```{\n",
    "\"model_version_status\": [\n",
    "  {\n",
    "   \"version\": \"1\",\n",
    "   \"state\": \"AVAILABLE\",\n",
    "   \"status\": {\n",
    "    \"error_code\": \"OK\",\n",
    "    \"error_message\": \"\"\n",
    "   }\n",
    "  }\n",
    " ]\n",
    "}\n",
    "```"
   ]
  },
  {
   "cell_type": "markdown",
   "metadata": {},
   "source": [
    "# Remote Deployment"
   ]
  },
  {
   "cell_type": "markdown",
   "metadata": {},
   "source": [
    "1. Repeat Step 1-2 in local deployment\n",
    "2. Go to ```dashboard.render.com``` \n",
    "3. New Web Service deployment\n",
    "4. Connect to gitlab\n",
    "5. Set to Docker runtime\n",
    "6. Wait for Deployment\n",
    "7. Check ```https://cnn-model-app.onrender.com/v1/models/CNN31x31``` and ```https://cnn-model-app.onrender.com/models/CNN128x128``` for \n",
    "```{\n",
    "\"model_version_status\": [\n",
    "  {\n",
    "   \"version\": \"1\",\n",
    "   \"state\": \"AVAILABLE\",\n",
    "   \"status\": {\n",
    "    \"error_code\": \"OK\",\n",
    "    \"error_message\": \"\"\n",
    "   }\n",
    "  }\n",
    " ]\n",
    "}\n",
    "```\n"
   ]
  },
  {
   "cell_type": "markdown",
   "metadata": {},
   "source": [
    "# CI/CD & Testing"
   ]
  },
  {
   "cell_type": "markdown",
   "metadata": {},
   "source": [
    "1. Ping Telegram with the CI/CD Pipeline started\n",
    "    - telegram.py is called and {heading, user, repo, commit, commit_message, job_link} is given\n",
    "    - requests library is used to send the packaged data as per telegram API\n",
    "\n",
    "2. Deploy to ```https://cnn-model-app-testsite.onrender.com```\n",
    "    - POST request is sent to trigger a redeployment of ```https://cnn-model-app-testsite.onrender.com```\n",
    "    - the test site deploys the dockerfile from main branch\n",
    "\n",
    "3. Run Pytest on test site\n",
    "    - requirements.txt read and the necessary library are installed into the enviroment\n",
    "    - pytest is called\n",
    "        - if test fails a telegram ping will be sent indicating test failure and the pipline ends\n",
    "        - if test passes a telegram ping will be sent indicating that all test passed\n",
    "\n",
    "4. Only when pytest pass: Merge to deployment branch and send a ping to telegram\n",
    "    - Git is used to remote add the gitlab repo\n",
    "    - it then checkouts deployment branch, merge with main and push\n",
    "\n",
    "5. Render live site will be triggered to redeploy using deployment branch"
   ]
  }
 ],
 "metadata": {
  "kernelspec": {
   "display_name": "Python 3",
   "language": "python",
   "name": "python3"
  },
  "language_info": {
   "codemirror_mode": {
    "name": "ipython",
    "version": 3
   },
   "file_extension": ".py",
   "mimetype": "text/x-python",
   "name": "python",
   "nbconvert_exporter": "python",
   "pygments_lexer": "ipython3",
   "version": "3.10.13"
  }
 },
 "nbformat": 4,
 "nbformat_minor": 2
}
